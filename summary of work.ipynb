{
 "cells": [
  {
   "cell_type": "markdown",
   "metadata": {},
   "source": [
    "##### the problem:\n",
    "to classify a sentance into a book in the bible.\n",
    "\n",
    "for example:\n",
    "\n",
    "###### \"In the beginning God created the heaven and the earth\"\n",
    "\n",
    "the answer should be:  \n",
    "\n",
    "###### \"Genesis\""
   ]
  },
  {
   "cell_type": "markdown",
   "metadata": {},
   "source": [
    "***\n",
    "at start we tried to solve simplier problem, instead classifying the sentance into book, we tried to classify it to old/new testament.\n",
    "\n",
    "to do so we used linear regression which we think is the best option for this problem.\n",
    "\n",
    "we got accuracy of - 0.86 which is not bad but can be improved, since this is not our original problem we were content with this result."
   ]
  },
  {
   "cell_type": "markdown",
   "metadata": {},
   "source": [
    "***\n",
    "after that we tried to solve our problem using simple logistic regression.\n",
    "\n",
    "after short time we realized that this model can't solve our problem because logistic regression is used to clasiify to binary values, but we have 66 different labels so that didn't work."
   ]
  },
  {
   "cell_type": "markdown",
   "metadata": {},
   "source": [
    "***\n",
    "to make logistic regression work we decided to use softmax, which gives probability for every prediction label.\n",
    "\n",
    "this model sounds like it can solve our problem but the result we got were not so good.\n",
    "\n",
    "it seems that our data is more complicated than we thought, and this model gave very close probability to every book."
   ]
  },
  {
   "cell_type": "markdown",
   "metadata": {},
   "source": [
    "***\n",
    "after that we tried multilayer perceptron neural network model.\n",
    "\n",
    "we tried at first 2 hidden layers with size 100,50\n",
    "\n",
    "but we got vanishing gradient.\n",
    "\n",
    "so we tried 3 hidden layers with size 50,25,12\n",
    "\n",
    "but it took too many time to train and the learning rate was to low.\n",
    "\n",
    "and finally we tried with only 1 hidden layer with size 50 which worked pretty well, but the problem was we gave all the data as train set and it took a lot of time, to fix this we simply divided the train set and the test set to 80% 20%\n",
    "and finally we got good result.\n",
    "\n",
    "after we realized that we changed all our model with the same train and test set.\n"
   ]
  },
  {
   "cell_type": "markdown",
   "metadata": {},
   "source": [
    "***\n",
    "##### process of work:\n",
    "the start of every stage was similar, first we read the data than we tokenized the vocabulary and converted every verse into vector of the words that apears in the verse.\n",
    "\n",
    "for example: \"In the beginning God created the heaven and the earth\" -> [1,3,1,1,1,1,1,0,0,0,0...]\n",
    "\n",
    "\"in\" apears one time, \"the\" apears 3 time and so on.\n",
    "\n",
    "\n",
    "after that we made every book to one hot encoded vector.\n",
    "\n",
    "for example: Genesis -> [1,0,0,0,0...]\n",
    "\n",
    "than for every model we gave the right weights, bias and function (sigmoid, relu)\n",
    "and trained the set.\n",
    "\n",
    "somtimes the train set was all the data and somtimes we took 200 random verses from the data."
   ]
  }
 ],
 "metadata": {
  "kernelspec": {
   "display_name": "Python 3",
   "language": "python",
   "name": "python3"
  },
  "language_info": {
   "codemirror_mode": {
    "name": "ipython",
    "version": 3
   },
   "file_extension": ".py",
   "mimetype": "text/x-python",
   "name": "python",
   "nbconvert_exporter": "python",
   "pygments_lexer": "ipython3",
   "version": "3.8.3"
  }
 },
 "nbformat": 4,
 "nbformat_minor": 4
}
